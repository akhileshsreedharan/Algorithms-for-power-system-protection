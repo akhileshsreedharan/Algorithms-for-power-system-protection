{
 "cells": [
  {
   "cell_type": "markdown",
   "metadata": {},
   "source": [
    "# Mann and Morrison Algorithm"
   ]
  },
  {
   "cell_type": "markdown",
   "metadata": {},
   "source": [
    "Mann and Morrison algorithm was developed to predict the RMS values of voltage, current, phase angle of a undistoreted sinusoidal waveform, using a minimum of three samples. In the following iPython notebook we will derive the relations used by Mann and Morrison algorithm to predict the above mentioned values. Also, we will develop a simulation to predict the values from the samples"
   ]
  },
  {
   "cell_type": "markdown",
   "metadata": {},
   "source": [
    " Assume that the input voltage to any relay be of the form: "
   ]
  },
  {
   "cell_type": "markdown",
   "metadata": {},
   "source": [
    "$v(t_{k}) = V_{m}sin(\\omega t_{k} + \\theta {v}) $ ---------------(1)"
   ]
  },
  {
   "cell_type": "markdown",
   "metadata": {},
   "source": [
    "As a part of our simulation, let us now generate the samples for waveform defined by equation(1) with peak voltage $V_{m} = 110V$, angular frequency $\\omega = 2\\times\\pi\\times50 = 100\\pi$ and phase $\\theta_{v} = 30^{\\circ}$"
   ]
  },
  {
   "cell_type": "code",
   "execution_count": 4,
   "metadata": {},
   "outputs": [
    {
     "name": "stdout",
     "output_type": "stream",
     "text": [
      "Populating the interactive namespace from numpy and matplotlib\n",
      "T\t Vm\t dT\t f_samp\t f_sig\t omega\t over_samp_factor\t t\t theta_v\t \n",
      "v_tk\t \n"
     ]
    },
    {
     "data": {
      "text/plain": [
       "[<matplotlib.lines.Line2D at 0xace892cc>]"
      ]
     },
     "execution_count": 4,
     "metadata": {},
     "output_type": "execute_result"
    },
    {
     "data": {
      "image/png": "[encoded data removed]",
      "text/plain": [
       "<matplotlib.figure.Figure at 0xacdeb1cc>"
      ]
     },
     "metadata": {},
     "output_type": "display_data"
    }
   ],
   "source": [
    "%who\n",
    "%pylab inline\n",
    "\n",
    "from __future__ import division\n",
    "import numpy as np\n",
    "\n",
    "Vm = 110       #peak voltage\n",
    "f_sig = 50    #frequency\n",
    "theta_v = 30  #in degrees\n",
    "omega = 2*np.pi*f_sig\n",
    "\n",
    "over_samp_factor = 100\n",
    "f_samp = 2 *f_sig*over_samp_factor #sampling frequency\n",
    "T = 1/f_sig #signal period\n",
    "dT = 1/f_samp #sample period\n",
    "\n",
    "t = np.arange(0,T,dT)\n",
    "v_tk = Vm * np.sin(omega*t + theta_v*np.pi/180)\n",
    "plot(t,v_tk)\n"
   ]
  },
  {
   "cell_type": "markdown",
   "metadata": {},
   "source": [
    "Now that we have our waveform ready let us proceed with our derivation by differentiating our input voltage defined by equation (1)"
   ]
  },
  {
   "cell_type": "markdown",
   "metadata": {},
   "source": [
    "$v'(t_{k}) = \\omega V_{m} cos(\\omega t_{k}+\\theta _{v})$"
   ]
  },
  {
   "cell_type": "markdown",
   "metadata": {},
   "source": [
    "From which we can obtain our equation(2) as:"
   ]
  },
  {
   "cell_type": "markdown",
   "metadata": {},
   "source": [
    "$\\large{\\frac{v'(t_{k})}{\\omega V_{m}}}$ $= cos(\\omega t_{k}+\\theta _{v})$ ---------------(2)"
   ]
  },
  {
   "cell_type": "markdown",
   "metadata": {},
   "source": [
    "Squaring and adding equations (1) and (2) gives us "
   ]
  },
  {
   "cell_type": "markdown",
   "metadata": {},
   "source": [
    "$V_{m}^2 = (v(t_{k}))^2 + \\large{(\\frac{v'(t_{k})}{\\omega})}^2$ "
   ]
  },
  {
   "cell_type": "markdown",
   "metadata": {},
   "source": [
    "$\\therefore V_{m} = \\sqrt{(v(t_{k}))^2 + \\large{(\\frac{v'(t_{k})}{\\omega})}^2}$---------------(3)"
   ]
  },
  {
   "cell_type": "markdown",
   "metadata": {},
   "source": [
    "For a discrete time system we compute $v'(t_{k})$ using the central difference formula:"
   ]
  },
  {
   "cell_type": "markdown",
   "metadata": {},
   "source": [
    "$v'(t_{k}) = \\large{\\frac {v_{k+1} - v_{k-1}}{2\\Delta t}}$ ---------------(4)"
   ]
  },
  {
   "cell_type": "markdown",
   "metadata": {
    "collapsed": true
   },
   "source": [
    "Equations (3) and (4) can now be used to estimate the peak voltage. Notice that equations (3) and (4) use a minimum of three samples $v_{k+1}, v_k $ and $ v_{k+1}$. Let us now use the samples stored in the array v_tk defined by the earlier code snippet  and equations (3) and (4) to estimate the peak voltage    "
   ]
  },
  {
   "cell_type": "code",
   "execution_count": 13,
   "metadata": {},
   "outputs": [
    {
     "name": "stdout",
     "output_type": "stream",
     "text": [
      "Estimation No.\tFirst Derivative\tEstimated Peak Voltage\tPercentage Error\n",
      "1 \t\t29365.3520838 \t\t109.986931131 \t\t0.011880790416\n",
      "2 \t\t28778.9572653 \t\t109.987447892 \t\t0.0114110077032\n",
      "3 \t\t28164.1610905 \t\t109.987978486 \t\t0.0109286491025\n",
      "4 \t\t27521.5702889 \t\t109.98852082 \t\t0.0104356184314\n",
      "5 \t\t26851.8190203 \t\t109.989072752 \t\t0.00993386159925\n",
      "6 \t\t26155.5682481 \t\t109.989632105 \t\t0.00942535892768\n",
      "7 \t\t25433.5050878 \t\t109.990196671 \t\t0.00891211733195\n",
      "8 \t\t24686.3421286 \t\t109.990764221 \t\t0.0083961623996\n",
      "9 \t\t23914.8167302 \t\t109.991332517 \t\t0.00787953039525\n",
      "10 \t\t23119.690295 \t\t109.991899314 \t\t0.00736426022362\n",
      "11 \t\t22301.7475166 \t\t109.992462376 \t\t0.00685238538439\n",
      "12 \t\t21461.7956061 \t\t109.993019481 \t\t0.00634592594614\n",
      "13 \t\t20600.6634943 \t\t109.993568431 \t\t0.00584688057508\n",
      "14 \t\t19719.2010149 \t\t109.994107059 \t\t0.00535721865023\n",
      "15 \t\t18818.2780647 \t\t109.99463324 \t\t0.00487887249163\n",
      "16 \t\t17898.7837461 \t\t109.995144897 \t\t0.0044137297371\n",
      "17 \t\t16961.6254889 \t\t109.995640012 \t\t0.0039636258958\n",
      "18 \t\t16007.7281551 \t\t109.996116629 \t\t0.00353033710722\n",
      "19 \t\t15038.0331263 \t\t109.99657287 \t\t0.00311557313495\n",
      "20 \t\t14053.4973743 \t\t109.997006932 \t\t0.00272097062239\n",
      "21 \t\t13055.0925171 \t\t109.997417105 \t\t0.00234808663796\n",
      "22 \t\t12043.8038598 \t\t109.997801768 \t\t0.00199839253338\n",
      "23 \t\t11020.6294221 \t\t109.998159405 \t\t0.00167326814136\n",
      "24 \t\t9986.57895372 \t\t109.998488604 \t\t0.00137399633392\n",
      "25 \t\t8942.6729376 \t\t109.998788066 \t\t0.0011017579628\n",
      "26 \t\t7889.94158296 \t\t109.99905661 \t\t0.00085762720373\n",
      "27 \t\t6829.42380854 \t\t109.999293176 \t\t0.000642567320274\n",
      "28 \t\t5762.16621735 \t\t109.99949683 \t\t0.000457426865278\n",
      "29 \t\t4689.22206377 \t\t109.99966677 \t\t0.000302936335688\n",
      "30 \t\t3611.65021416 \t\t109.999802324 \t\t0.000179705291779\n",
      "31 \t\t2530.51410182 \t\t109.999902958 \t\t8.82199537567e-05\n",
      "32 \t\t1446.88067758 \t\t109.999968275 \t\t2.88412850451e-05\n",
      "33 \t\t361.819356793 \t\t109.999998016 \t\t1.80356876585e-06\n",
      "34 \t\t-723.599036016 \t\t109.999992065 \t\t7.2134842035e-06\n",
      "35 \t\t-1808.30332394 \t\t109.999950445 \t\t4.50496861245e-05\n",
      "36 \t\t-2891.2230348 \t\t109.999873321 \t\t0.000115162889035\n",
      "37 \t\t-3971.28945758 \t\t109.999760996 \t\t0.000217276455627\n",
      "38 \t\t-5047.43669713 \t\t109.999613914 \t\t0.00035098748764\n",
      "39 \t\t-6118.60272605 \t\t109.999432655 \t\t0.000515768414172\n",
      "40 \t\t-7183.73043278 \t\t109.999217934 \t\t0.000710969071995\n",
      "41 \t\t-8241.76866488 \t\t109.998970599 \t\t0.000935819268955\n",
      "42 \t\t-9291.67326635 \t\t109.998691625 \t\t0.00118943182084\n",
      "43 \t\t-10332.4081081 \t\t109.998382113 \t\t0.00147080604957\n",
      "44 \t\t-11362.9461105 \t\t109.998043285 \t\t0.0017788317287\n",
      "45 \t\t-12382.2702569 \t\t109.997676477 \t\t0.00211229346229\n",
      "46 \t\t-13389.3745976 \t\t109.997283137 \t\t0.00246987547673\n",
      "47 \t\t-14383.265242 \t\t109.996864817 \t\t0.00285016680957\n",
      "48 \t\t-15362.9613401 \t\t109.996423166 \t\t0.00325166687538\n",
      "49 \t\t-16327.4960502 \t\t109.995959929 \t\t0.00367279138238\n",
      "50 \t\t-17275.917493 \t\t109.995476934 \t\t0.00411187858129\n"
     ]
    }
   ],
   "source": [
    "N = v_tk.size # calculate total number of samples\n",
    "\n",
    "v_dash = (v_tk[2:N]-v_tk[0:N-2])/(2*dT) #implement eqn (4)\n",
    "Vm_est = sqrt(v_tk[1:N-1]**2 + ((v_dash)/(omega))**2) #implement eqn(3)\n",
    "error = (Vm-Vm_est)*100/Vm\n",
    "\n",
    "# print first 50 estimations\n",
    "print 'Estimation No.\\tFirst Derivative\\tEstimated Peak Voltage\\tPercentage Error'\n",
    "for i in range(0,50):\n",
    "    print i+1,'\\t\\t',v_dash[i],'\\t\\t',Vm_est[i],'\\t\\t',error[i]"
   ]
  },
  {
   "cell_type": "code",
   "execution_count": null,
   "metadata": {
    "collapsed": true
   },
   "outputs": [],
   "source": []
  }
 ],
 "metadata": {
  "kernelspec": {
   "display_name": "Python 2",
   "language": "python",
   "name": "python2"
  },
  "language_info": {
   "codemirror_mode": {
    "name": "ipython",
    "version": 2
   },
   "file_extension": ".py",
   "mimetype": "text/x-python",
   "name": "python",
   "nbconvert_exporter": "python",
   "pygments_lexer": "ipython2",
   "version": "2.7.12"
  }
 },
 "nbformat": 4,
 "nbformat_minor": 2
}
